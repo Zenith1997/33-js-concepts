{
  "nbformat": 4,
  "nbformat_minor": 0,
  "metadata": {
    "colab": {
      "provenance": [],
      "mount_file_id": "1zErBsZ3Nl2eb53fHhCkLYFz4IO7h-v_5",
      "authorship_tag": "ABX9TyPdlnwyQ7FTzAri53zbxRPt",
      "include_colab_link": true
    },
    "kernelspec": {
      "name": "python3",
      "display_name": "Python 3"
    },
    "language_info": {
      "name": "python"
    }
  },
  "cells": [
    {
      "cell_type": "markdown",
      "metadata": {
        "id": "view-in-github",
        "colab_type": "text"
      },
      "source": [
        "<a href=\"https://colab.research.google.com/github/Zenith1997/33-js-concepts/blob/master/AustraliaSkillMigrationITJobExtracter.ipynb\" target=\"_parent\"><img src=\"https://colab.research.google.com/assets/colab-badge.svg\" alt=\"Open In Colab\"/></a>"
      ]
    },
    {
      "cell_type": "code",
      "execution_count": 9,
      "metadata": {
        "colab": {
          "base_uri": "https://localhost:8080/"
        },
        "id": "-gP6jMiwS6p5",
        "outputId": "c51e86d5-fdf1-443d-96e0-2ef0e986ecef"
      },
      "outputs": [
        {
          "output_type": "stream",
          "name": "stdout",
          "text": [
            "Requirement already satisfied: spacy in /usr/local/lib/python3.10/dist-packages (3.6.1)\n",
            "Requirement already satisfied: spacy-legacy<3.1.0,>=3.0.11 in /usr/local/lib/python3.10/dist-packages (from spacy) (3.0.12)\n",
            "Requirement already satisfied: spacy-loggers<2.0.0,>=1.0.0 in /usr/local/lib/python3.10/dist-packages (from spacy) (1.0.5)\n",
            "Requirement already satisfied: murmurhash<1.1.0,>=0.28.0 in /usr/local/lib/python3.10/dist-packages (from spacy) (1.0.10)\n",
            "Requirement already satisfied: cymem<2.1.0,>=2.0.2 in /usr/local/lib/python3.10/dist-packages (from spacy) (2.0.8)\n",
            "Requirement already satisfied: preshed<3.1.0,>=3.0.2 in /usr/local/lib/python3.10/dist-packages (from spacy) (3.0.9)\n",
            "Requirement already satisfied: thinc<8.2.0,>=8.1.8 in /usr/local/lib/python3.10/dist-packages (from spacy) (8.1.12)\n",
            "Requirement already satisfied: wasabi<1.2.0,>=0.9.1 in /usr/local/lib/python3.10/dist-packages (from spacy) (1.1.2)\n",
            "Requirement already satisfied: srsly<3.0.0,>=2.4.3 in /usr/local/lib/python3.10/dist-packages (from spacy) (2.4.8)\n",
            "Requirement already satisfied: catalogue<2.1.0,>=2.0.6 in /usr/local/lib/python3.10/dist-packages (from spacy) (2.0.10)\n",
            "Requirement already satisfied: typer<0.10.0,>=0.3.0 in /usr/local/lib/python3.10/dist-packages (from spacy) (0.9.0)\n",
            "Requirement already satisfied: pathy>=0.10.0 in /usr/local/lib/python3.10/dist-packages (from spacy) (0.10.3)\n",
            "Requirement already satisfied: smart-open<7.0.0,>=5.2.1 in /usr/local/lib/python3.10/dist-packages (from spacy) (6.4.0)\n",
            "Requirement already satisfied: tqdm<5.0.0,>=4.38.0 in /usr/local/lib/python3.10/dist-packages (from spacy) (4.66.1)\n",
            "Requirement already satisfied: numpy>=1.15.0 in /usr/local/lib/python3.10/dist-packages (from spacy) (1.23.5)\n",
            "Requirement already satisfied: requests<3.0.0,>=2.13.0 in /usr/local/lib/python3.10/dist-packages (from spacy) (2.31.0)\n",
            "Requirement already satisfied: pydantic!=1.8,!=1.8.1,<3.0.0,>=1.7.4 in /usr/local/lib/python3.10/dist-packages (from spacy) (1.10.13)\n",
            "Requirement already satisfied: jinja2 in /usr/local/lib/python3.10/dist-packages (from spacy) (3.1.2)\n",
            "Requirement already satisfied: setuptools in /usr/local/lib/python3.10/dist-packages (from spacy) (67.7.2)\n",
            "Requirement already satisfied: packaging>=20.0 in /usr/local/lib/python3.10/dist-packages (from spacy) (23.2)\n",
            "Requirement already satisfied: langcodes<4.0.0,>=3.2.0 in /usr/local/lib/python3.10/dist-packages (from spacy) (3.3.0)\n",
            "Requirement already satisfied: typing-extensions>=4.2.0 in /usr/local/lib/python3.10/dist-packages (from pydantic!=1.8,!=1.8.1,<3.0.0,>=1.7.4->spacy) (4.5.0)\n",
            "Requirement already satisfied: charset-normalizer<4,>=2 in /usr/local/lib/python3.10/dist-packages (from requests<3.0.0,>=2.13.0->spacy) (3.3.2)\n",
            "Requirement already satisfied: idna<4,>=2.5 in /usr/local/lib/python3.10/dist-packages (from requests<3.0.0,>=2.13.0->spacy) (3.6)\n",
            "Requirement already satisfied: urllib3<3,>=1.21.1 in /usr/local/lib/python3.10/dist-packages (from requests<3.0.0,>=2.13.0->spacy) (2.0.7)\n",
            "Requirement already satisfied: certifi>=2017.4.17 in /usr/local/lib/python3.10/dist-packages (from requests<3.0.0,>=2.13.0->spacy) (2023.11.17)\n",
            "Requirement already satisfied: blis<0.8.0,>=0.7.8 in /usr/local/lib/python3.10/dist-packages (from thinc<8.2.0,>=8.1.8->spacy) (0.7.11)\n",
            "Requirement already satisfied: confection<1.0.0,>=0.0.1 in /usr/local/lib/python3.10/dist-packages (from thinc<8.2.0,>=8.1.8->spacy) (0.1.4)\n",
            "Requirement already satisfied: click<9.0.0,>=7.1.1 in /usr/local/lib/python3.10/dist-packages (from typer<0.10.0,>=0.3.0->spacy) (8.1.7)\n",
            "Requirement already satisfied: MarkupSafe>=2.0 in /usr/local/lib/python3.10/dist-packages (from jinja2->spacy) (2.1.3)\n",
            "2023-12-16 16:10:37.407888: E external/local_xla/xla/stream_executor/cuda/cuda_dnn.cc:9261] Unable to register cuDNN factory: Attempting to register factory for plugin cuDNN when one has already been registered\n",
            "2023-12-16 16:10:37.407942: E external/local_xla/xla/stream_executor/cuda/cuda_fft.cc:607] Unable to register cuFFT factory: Attempting to register factory for plugin cuFFT when one has already been registered\n",
            "2023-12-16 16:10:37.408886: E external/local_xla/xla/stream_executor/cuda/cuda_blas.cc:1515] Unable to register cuBLAS factory: Attempting to register factory for plugin cuBLAS when one has already been registered\n",
            "2023-12-16 16:10:38.386946: W tensorflow/compiler/tf2tensorrt/utils/py_utils.cc:38] TF-TRT Warning: Could not find TensorRT\n",
            "Collecting en-core-web-sm==3.6.0\n",
            "  Downloading https://github.com/explosion/spacy-models/releases/download/en_core_web_sm-3.6.0/en_core_web_sm-3.6.0-py3-none-any.whl (12.8 MB)\n",
            "\u001b[2K     \u001b[90m━━━━━━━━━━━━━━━━━━━━━━━━━━━━━━━━━━━━━━━━\u001b[0m \u001b[32m12.8/12.8 MB\u001b[0m \u001b[31m54.8 MB/s\u001b[0m eta \u001b[36m0:00:00\u001b[0m\n",
            "\u001b[?25hRequirement already satisfied: spacy<3.7.0,>=3.6.0 in /usr/local/lib/python3.10/dist-packages (from en-core-web-sm==3.6.0) (3.6.1)\n",
            "Requirement already satisfied: spacy-legacy<3.1.0,>=3.0.11 in /usr/local/lib/python3.10/dist-packages (from spacy<3.7.0,>=3.6.0->en-core-web-sm==3.6.0) (3.0.12)\n",
            "Requirement already satisfied: spacy-loggers<2.0.0,>=1.0.0 in /usr/local/lib/python3.10/dist-packages (from spacy<3.7.0,>=3.6.0->en-core-web-sm==3.6.0) (1.0.5)\n",
            "Requirement already satisfied: murmurhash<1.1.0,>=0.28.0 in /usr/local/lib/python3.10/dist-packages (from spacy<3.7.0,>=3.6.0->en-core-web-sm==3.6.0) (1.0.10)\n",
            "Requirement already satisfied: cymem<2.1.0,>=2.0.2 in /usr/local/lib/python3.10/dist-packages (from spacy<3.7.0,>=3.6.0->en-core-web-sm==3.6.0) (2.0.8)\n",
            "Requirement already satisfied: preshed<3.1.0,>=3.0.2 in /usr/local/lib/python3.10/dist-packages (from spacy<3.7.0,>=3.6.0->en-core-web-sm==3.6.0) (3.0.9)\n",
            "Requirement already satisfied: thinc<8.2.0,>=8.1.8 in /usr/local/lib/python3.10/dist-packages (from spacy<3.7.0,>=3.6.0->en-core-web-sm==3.6.0) (8.1.12)\n",
            "Requirement already satisfied: wasabi<1.2.0,>=0.9.1 in /usr/local/lib/python3.10/dist-packages (from spacy<3.7.0,>=3.6.0->en-core-web-sm==3.6.0) (1.1.2)\n",
            "Requirement already satisfied: srsly<3.0.0,>=2.4.3 in /usr/local/lib/python3.10/dist-packages (from spacy<3.7.0,>=3.6.0->en-core-web-sm==3.6.0) (2.4.8)\n",
            "Requirement already satisfied: catalogue<2.1.0,>=2.0.6 in /usr/local/lib/python3.10/dist-packages (from spacy<3.7.0,>=3.6.0->en-core-web-sm==3.6.0) (2.0.10)\n",
            "Requirement already satisfied: typer<0.10.0,>=0.3.0 in /usr/local/lib/python3.10/dist-packages (from spacy<3.7.0,>=3.6.0->en-core-web-sm==3.6.0) (0.9.0)\n",
            "Requirement already satisfied: pathy>=0.10.0 in /usr/local/lib/python3.10/dist-packages (from spacy<3.7.0,>=3.6.0->en-core-web-sm==3.6.0) (0.10.3)\n",
            "Requirement already satisfied: smart-open<7.0.0,>=5.2.1 in /usr/local/lib/python3.10/dist-packages (from spacy<3.7.0,>=3.6.0->en-core-web-sm==3.6.0) (6.4.0)\n",
            "Requirement already satisfied: tqdm<5.0.0,>=4.38.0 in /usr/local/lib/python3.10/dist-packages (from spacy<3.7.0,>=3.6.0->en-core-web-sm==3.6.0) (4.66.1)\n",
            "Requirement already satisfied: numpy>=1.15.0 in /usr/local/lib/python3.10/dist-packages (from spacy<3.7.0,>=3.6.0->en-core-web-sm==3.6.0) (1.23.5)\n",
            "Requirement already satisfied: requests<3.0.0,>=2.13.0 in /usr/local/lib/python3.10/dist-packages (from spacy<3.7.0,>=3.6.0->en-core-web-sm==3.6.0) (2.31.0)\n",
            "Requirement already satisfied: pydantic!=1.8,!=1.8.1,<3.0.0,>=1.7.4 in /usr/local/lib/python3.10/dist-packages (from spacy<3.7.0,>=3.6.0->en-core-web-sm==3.6.0) (1.10.13)\n",
            "Requirement already satisfied: jinja2 in /usr/local/lib/python3.10/dist-packages (from spacy<3.7.0,>=3.6.0->en-core-web-sm==3.6.0) (3.1.2)\n",
            "Requirement already satisfied: setuptools in /usr/local/lib/python3.10/dist-packages (from spacy<3.7.0,>=3.6.0->en-core-web-sm==3.6.0) (67.7.2)\n",
            "Requirement already satisfied: packaging>=20.0 in /usr/local/lib/python3.10/dist-packages (from spacy<3.7.0,>=3.6.0->en-core-web-sm==3.6.0) (23.2)\n",
            "Requirement already satisfied: langcodes<4.0.0,>=3.2.0 in /usr/local/lib/python3.10/dist-packages (from spacy<3.7.0,>=3.6.0->en-core-web-sm==3.6.0) (3.3.0)\n",
            "Requirement already satisfied: typing-extensions>=4.2.0 in /usr/local/lib/python3.10/dist-packages (from pydantic!=1.8,!=1.8.1,<3.0.0,>=1.7.4->spacy<3.7.0,>=3.6.0->en-core-web-sm==3.6.0) (4.5.0)\n",
            "Requirement already satisfied: charset-normalizer<4,>=2 in /usr/local/lib/python3.10/dist-packages (from requests<3.0.0,>=2.13.0->spacy<3.7.0,>=3.6.0->en-core-web-sm==3.6.0) (3.3.2)\n",
            "Requirement already satisfied: idna<4,>=2.5 in /usr/local/lib/python3.10/dist-packages (from requests<3.0.0,>=2.13.0->spacy<3.7.0,>=3.6.0->en-core-web-sm==3.6.0) (3.6)\n",
            "Requirement already satisfied: urllib3<3,>=1.21.1 in /usr/local/lib/python3.10/dist-packages (from requests<3.0.0,>=2.13.0->spacy<3.7.0,>=3.6.0->en-core-web-sm==3.6.0) (2.0.7)\n",
            "Requirement already satisfied: certifi>=2017.4.17 in /usr/local/lib/python3.10/dist-packages (from requests<3.0.0,>=2.13.0->spacy<3.7.0,>=3.6.0->en-core-web-sm==3.6.0) (2023.11.17)\n",
            "Requirement already satisfied: blis<0.8.0,>=0.7.8 in /usr/local/lib/python3.10/dist-packages (from thinc<8.2.0,>=8.1.8->spacy<3.7.0,>=3.6.0->en-core-web-sm==3.6.0) (0.7.11)\n",
            "Requirement already satisfied: confection<1.0.0,>=0.0.1 in /usr/local/lib/python3.10/dist-packages (from thinc<8.2.0,>=8.1.8->spacy<3.7.0,>=3.6.0->en-core-web-sm==3.6.0) (0.1.4)\n",
            "Requirement already satisfied: click<9.0.0,>=7.1.1 in /usr/local/lib/python3.10/dist-packages (from typer<0.10.0,>=0.3.0->spacy<3.7.0,>=3.6.0->en-core-web-sm==3.6.0) (8.1.7)\n",
            "Requirement already satisfied: MarkupSafe>=2.0 in /usr/local/lib/python3.10/dist-packages (from jinja2->spacy<3.7.0,>=3.6.0->en-core-web-sm==3.6.0) (2.1.3)\n",
            "\u001b[38;5;2m✔ Download and installation successful\u001b[0m\n",
            "You can now load the package via spacy.load('en_core_web_sm')\n",
            "Words between 'occupation&quot;:&quot;' and '&quot;': ['Aboriginal and Torres Strait Islander Health Worker', 'Accommodation and Hospitality Managers nec', 'Accountant (General)', 'Actor', 'Actors, Dancers and Other Entertainers nec', 'Actuary', 'Acupuncturist', 'Advertising Manager', 'Advertising Specialist', 'Aeronautical Engineer', 'Aeroplane Pilot', 'Agricultural Consultant', 'Agricultural Engineer', 'Agricultural Scientist', 'Agricultural Technician', 'Air Traffic Controller', 'Air Transport Professionals nec', 'Airconditioning and Mechanical Services Plumber', 'Airconditioning and Refrigeration Mechanic', 'Aircraft Maintenance Engineer (Avionics)', 'Aircraft Maintenance Engineer (Mechanical)', 'Aircraft Maintenance Engineer (Structures)', 'Ambulance Officer', 'Amusement Centre Manager', 'Anaesthetic Technician', 'Anaesthetist', 'Analyst Programmer', 'Animal Attendants and Trainers nec', 'Antique Dealer', 'Apiarist', 'Apparel Cutter', 'Aquaculture Farmer', 'Arborist', 'Archaeologist', 'Architect', 'Architectural Draftsperson', 'Architectural, Building and Surveying Technicians nec', 'Archivist', 'Art Director (Film, Television or Stage)', 'Art Teacher (Private Tuition)', 'Artistic Director', 'Arts Administrator or Manager', 'Auctioneer', 'Audiologist', 'Author', 'Automotive Electrician', 'Baker', 'Barrister', 'Bed and Breakfast Operator', 'Beef Cattle Farmer', 'Betting Agency Manager', 'Biochemist', 'Biomedical Engineer', 'Biotechnologist', 'Blacksmith', 'Boarding Kennel or Cattery Operator', 'Boat Builder and Repairer', 'Book or Script Editor', 'Botanist', 'Bricklayer', 'Broadcast Transmitter Operator', 'Building and Engineering Technicians nec', 'Building Associate', 'Building Inspector', 'Business Broker', 'Business Machine Mechanic', 'Butcher or Smallgoods Maker', 'Cabinetmaker', 'Cabler (Data and Telecommunications)', 'Cafe or Restaurant Manager', 'Call or Contact Centre Manager', 'Call or Contact Centre Team Leader', 'Camera Operator (Film, Television or Video)', 'Canvas Goods Fabricator', 'Caravan Park and Camping Ground Manager', 'Cardiac Technician', 'Cardiologist', 'Cardiothoracic Surgeon', 'Careers Counsellor', 'Carpenter', 'Carpenter and Joiner', 'Cartographer', 'Chef', 'Chemical Engineer', 'Chemical Plant Operator', 'Chemist', 'Chemistry Technician', 'Chief Executive or Managing Director', 'Chief Information Officer', 'Child Care Centre Manager', 'Child Care Worker (group leaders only)', 'Chiropractor', 'Cinema or Theatre Manager', 'Civil Engineer', 'Civil Engineering Draftsperson', 'Civil Engineering Technician', 'Clerk of Court', 'Clinical Coder', 'Clinical Haematologist', 'Clinical Psychologist', 'Clothing Patternmaker', 'Clothing Trades Workers nec', 'Commissioned Defence Force Officer', 'Commissioned Fire Officer', 'Commissioned Police Officer', 'Commodities Trader', 'Communications Operator', 'Community Arts Worker', 'Community Worker', 'Company Secretary', 'Complementary Health Therapists nec', 'Composer', 'Computer Network and Systems Engineer', 'Conference and Event Organiser', 'Conservation Officer', 'Conservator', 'Construction Estimator', 'Construction Project Manager', 'Contract Administrator', 'Conveyancer', 'Cook', 'Copywriter', 'Corporate General Manager', 'Corporate Services Manager', 'Corporate Treasurer', 'Cotton Grower', 'Counsellors nec', 'Court Bailiff or Sheriff (Aus) \\\\\\\\ Court Collections Officer (NZ)', 'Court Orderly (Aus) \\\\\\\\ Court Registry Officer (NZ)', 'Crop Farmers nec', 'Customer Service Manager', 'Dairy Cattle Farmer', 'Dance Teacher (Private Tuition)', 'Dancer or Choreographer', 'Database Administrator', 'Deer Farmer', 'Defence Force Member - Other Ranks', 'Defence Force Senior Officer', 'Dental Hygienist', 'Dental Prosthetist', 'Dental Specialist', 'Dental Technician', 'Dental Therapist', 'Dentist', 'Dermatologist', 'Detective', 'Developer Programmer', 'Diagnostic and Interventional Radiologist', 'Diesel Motor Mechanic', 'Dietitian', 'Director (Film, Television, Radio or Stage)', 'Director of Photography', 'Disabilities Services Officer', 'Diver', 'Diversional Therapist', 'Diving Instructor (Open Water)', 'Dog Handler or Trainer', 'Dog or Horse Racing Official', 'Drainer', 'Drama Teacher (Private Tuition)', 'Dressmaker or Tailor', 'Driving Instructor', 'Drug and Alcohol Counsellor', 'Early Childhood (Pre-primary School) Teacher', 'Earth Science Technician', 'Economist', 'Education Adviser', 'Education Managers nec', 'Education Reviewer', 'Educational Psychologist', 'Electorate Officer', 'Electrical Engineer', 'Electrical Engineering Draftsperson', 'Electrical Engineering Technician', 'Electrical Linesworker', 'Electrician (General)', 'Electrician (Special Class)', 'Electronic Engineering Draftsperson', 'Electronic Engineering Technician', 'Electronic Equipment Trades Worker', 'Electronic Instrument Trades Worker (General)', 'Electronic Instrument Trades Worker (Special Class)', 'Electronics Engineer', 'Electroplater', 'Emergency Medicine Specialist', 'Emergency Service Worker', 'Endocrinologist', 'Engineering Manager', 'Engineering Patternmaker', 'Engineering Professionals nec', 'Engineering Technologist', 'Engraver', 'Enrolled Nurse', 'Entertainer or Variety Artist', 'Environmental Consultant', 'Environmental Engineer', 'Environmental Health Officer', 'Environmental Manager', 'Environmental Research Scientist', 'Environmental Scientists nec', 'Equipment Hire Manager', 'Exercise Physiologist', 'External Auditor', 'Facilities Manager', 'Faculty Head', 'Family and Marriage Counsellor', 'Family Support Worker', 'Farrier', 'Fashion Designer', 'Fibrous Plasterer', 'Film and Video Editor', 'Film, Television, Radio and Stage Directors nec', 'Finance Broker', 'Finance Manager', 'Financial Brokers nec', 'Financial Dealers nec', 'Financial Institution Branch Manager', 'Financial Investment Adviser', 'Financial Investment Manager', 'Financial Market Dealer', 'Fire Fighter', 'Fire Protection Equipment Technician', 'First Aid Trainer', 'Fisheries Officer', 'Fitness Centre Manager', 'Fitter (General)', 'Fitter and Turner', 'Fitter-Welder', 'Fleet Manager', 'Flight Attendant', 'Floor Finisher', 'Florist', 'Flower Grower', 'Flying Instructor', 'Food Technologist', 'Footballer', 'Forester', 'Fruit or Nut Grower', 'Funeral Director', 'Funeral Workers nec', 'Furniture Finisher', 'Futures Trader', 'Gallery or Museum Curator', 'Gallery or Museum Technician', 'Gardener (General)', 'Gas or Petroleum Operator', 'Gasfitter', 'Gastroenterologist', 'General Practitioner', 'Geologist', 'Geophysicist', 'Geotechnical Engineer', 'Glazier', 'Goat Farmer', 'Golfer', 'Grain, Oilseed or Pasture Grower', 'Grape Grower', 'Graphic Designer', 'Graphic Pre-press Trades Worker', 'Greenkeeper', 'Gunsmith', 'Gymnastics Coach or Instructor', 'Hair or Beauty Salon Manager', 'Hairdresser', 'Hardware Technician', 'Health and Welfare Services Managers nec', 'Health Diagnostic and Promotion Professionals nec', 'Health Information Manager', 'Health Practice Manager', 'Health Promotion Officer', 'Helicopter Pilot', 'Historian', 'Homoeopath', 'Horse Breeder', 'Horse Riding Coach or Instructor', 'Horse Trainer', 'Hospital Pharmacist', 'Hospitality, Retail and Service Managers nec', 'Hotel or Motel Manager', 'Hotel Service Manager', 'Human Resource Adviser', 'Human Resource Manager', 'Hydrogeologist', 'Hydrographer', 'ICT Account Manager', 'ICT Business Analyst', 'ICT Business Development Manager', 'ICT Customer Support Officer', 'ICT Managers nec', 'ICT Project Manager', 'ICT Quality Assurance Engineer', 'ICT Sales Representative', 'ICT Security Specialist', 'ICT Support and Test Engineers nec', 'ICT Support Engineer', 'ICT Support Technicians nec', 'ICT Systems Test Engineer', 'ICT Trainer', 'Illustrator', 'Importer or Exporter', 'Industrial Designer', 'Industrial Engineer', 'Industrial Pharmacist', 'Information and Organisation Professionals nec', 'Insurance Agent', 'Insurance Broker', 'Insurance Investigator', 'Insurance Loss Adjuster', 'Insurance Risk Surveyor', 'Intellectual Property Lawyer', 'Intelligence Officer', 'Intensive Care Ambulance Paramedic', 'Intensive Care Specialist', 'Interior Decorator', 'Interior Designer', 'Internal Auditor', 'Interpreter', 'Jeweller', 'Jewellery Designer', 'Jockey', 'Joiner', 'Journalists and Other Writers nec', 'Judge', 'Judicial and Other Legal Professionals nec', 'Kaiako Kohanga Reo (Maori Language Nest Teacher)', 'Kaiako Kura Kaupapa Maori (Maori-medium Primary School Teacher)', 'Kaiawhina (Hauora) (Maori Health Assistant)', 'Kennel Hand', 'Laboratory Manager', 'Land Economist', 'Landscape Architect', 'Landscape Gardener', 'Law Clerk', 'Leather Goods Maker', 'Legal Executive', 'Legal Secretary', 'Legislators nec', 'Liaison Officer', 'Librarian', 'Library Technician', 'Licensed Club Manager', 'Life Science Technician', 'Life Scientist (General)', 'Life Scientists nec', 'Lifeguard', 'Lift Mechanic', 'Light Technician', 'Livestock Farmers nec', 'Local Government Legislator', 'Locksmith', 'Magistrate', 'Maintenance Planner', 'Make Up Artist', 'Management Accountant', 'Management Consultant', 'Manufacturer', 'Marine Biologist', 'Marine Surveyor', 'Marine Transport Professionals nec', 'Market Research Analyst', 'Marketing Specialist', 'Massage Therapist', 'Master Fisher', 'Materials Engineer', 'Mathematician', 'Meat Inspector', 'Mechanical Engineer', 'Mechanical Engineering Draftsperson', 'Mechanical Engineering Technician', 'Media Producer (excluding Video)', 'Medical Administrator', 'Medical Diagnostic Radiographer', 'Medical Laboratory Scientist', 'Medical Laboratory Technician', 'Medical Oncologist', 'Medical Practitioners nec', 'Medical Radiation Therapist', 'Medical Technicians nec', 'Member of Parliament', 'Metal Casting Trades Worker', 'Metal Fabricator', 'Metal Fitters and Machinists nec', 'Metal Machinist (First Class)', 'Metal Polisher', 'Metallurgical or Materials Technician', 'Metallurgist', 'Meteorologist', 'Microbiologist', 'Middle School Teacher', 'Midwife', 'Migration Agent (Aus) \\\\\\\\ Immigration Consultant (NZ)', 'Mine Deputy', 'Mining Engineer (excluding Petroleum)', 'Minister of Religion', 'Mixed Crop and Livestock Farmer', 'Mixed Crop Farmer', 'Mixed Livestock Farmer', 'Mothercraft Nurse', 'Motor Mechanic (General)', 'Motorcycle Mechanic', 'Multimedia Designer', 'Multimedia Specialist', 'Music Director', 'Music Professionals nec', 'Music Teacher (Private Tuition)', 'Musical Instrument Maker or Repairer', 'Musician (Instrumental)', 'Natural and Physical Science Professionals nec', 'Naturopath', 'Naval Architect', 'Network Administrator', 'Network Analyst', 'Neurologist', 'Neurosurgeon', 'Newspaper or Periodical Editor', 'Nuclear Medicine Technologist', 'Nurse Educator', 'Nurse Manager', 'Nurse Practitioner', 'Nurse Researcher', 'Nurseryperson', 'Nursing Clinical Director', 'Nutritionist', 'Obstetrician and Gynaecologist', 'Occupational Health and Safety Adviser', 'Occupational Therapist', 'Office Manager', 'Operating Theatre Technician', 'Ophthalmologist', 'Optical Dispenser (Aus) \\\\\\\\ Dispensing Optician (NZ)', 'Optical Mechanic', 'Optometrist', 'Organisation and Methods Analyst', 'Organisational Psychologist', 'Orthopaedic Surgeon', 'Orthoptist', 'Orthotist or Prosthetist', 'Osteopath', 'Other Spatial Scientist', 'Other Sports Coach or Instructor', 'Other Sports Official', 'Otorhinolaryngologist', 'Paediatric Surgeon', 'Paediatrician', 'Painter (Visual Arts)', 'Painting Trades Worker', 'Panelbeater', 'Park Ranger', 'Parole or Probation Officer', 'Pastrycook', 'Patents Examiner', 'Pathologist', 'Pathology Collector', 'Performing Arts Technicians nec', 'Personal Assistant', 'Pet Groomer', 'Petroleum Engineer', 'Pharmacy Technician', 'Photographer', 'Photographer\\\\u0027s Assistant', 'Physicist', 'Physiotherapist', 'Picture Framer', 'Pig Farmer', 'Plastic and Reconstructive Surgeon', 'Plastics Technician', 'Plumber (General)', 'Plumbing Inspector', 'Podiatrist', 'Police Officer', 'Policy Analyst', 'Policy and Planning Manager', 'Post Office Manager', 'Potter or Ceramic Artist', 'Pouako Kura Kaupapa Maori (Maori-medium Primary School Senior Teacher)', 'Poultry Farmer', 'Power Generation Plant Operator', 'Practice Managers nec', 'Precision Instrument Maker and Repairer', 'Pressure Welder', 'Primary Health Organisation Manager', 'Primary Products Inspectors nec', 'Primary School Teacher', 'Print Finisher', 'Print Journalist', 'Printing Machinist', 'Private Tutors and Teachers nec', 'Procurement Manager', 'Production Manager (Forestry)', 'Production Manager (Manufacturing)', 'Production Manager (Mining)', 'Production or Plant Engineer', 'Program Director (Television or Radio)', 'Program or Project Administrator', 'Project Builder', 'Property Manager', 'Psychiatrist', 'Psychologists nec', 'Psychotherapist', 'Public Relations Manager', 'Public Relations Professional', 'Quality Assurance Manager', 'Quantity Surveyor', 'Quarantine Officer', 'Radiation Oncologist', 'Radio Journalist', 'Radio Presenter', 'Radiocommunications Technician', 'Railway Station Manager', 'Real Estate Agency Principal (Aus) \\\\\\\\ Real Estate Agency Licensee (NZ)', 'Real Estate Agent', 'Real Estate Representative', 'Records Manager', 'Recreation Officer', 'Recruitment Consultant', 'Regional Education Manager', 'Registered Nurse (Aged Care)', 'Registered Nurse (Child and Family Health)', 'Registered Nurse (Community Health)', 'Registered Nurse (Critical Care and Emergency)', 'Registered Nurse (Developmental Disability)', 'Registered Nurse (Disability and Rehabilitation)', 'Registered Nurse (Medical Practice)', 'Registered Nurse (Medical)', 'Registered Nurse (Mental Health)', 'Registered Nurse (Paediatrics)', 'Registered Nurse (Perioperative)', 'Registered Nurse (Surgical)', 'Registered Nurses nec', 'Rehabilitation Counsellor', 'Renal Medicine Specialist', 'Research and Development Manager', 'Resident Medical Officer', 'Residential Care Officer', 'Retail Buyer', 'Retail Manager (General)', 'Retail Pharmacist', 'Retirement Village Manager', 'Rheumatologist', 'Roof Plumber', 'Roof Tiler', 'Safety Inspector', 'Sail Maker', 'Sales and Marketing Manager', 'Sales Representative (Industrial Products)', 'Sales Representative (Medical and Pharmaceutical Products)', 'Saw Doctor', 'School Laboratory Technician', 'School Principal', 'Science Technicians nec', 'Screen Printer', 'Sculptor', 'Secondary School Teacher', 'Secretary (General)', 'Security Consultant', 'Senior Non-commissioned Defence Force Member', 'Shearer', 'Sheep Farmer', 'Sheetmetal Trades Worker', 'Ship\\\\u0027s Engineer', 'Ship\\\\u0027s Master', 'Ship\\\\u0027s Officer', 'Shipwright', 'Shoemaker', 'Signwriter', 'Singer', 'Small Engine Mechanic', 'Small Offset Printer', 'Snowsport Instructor', 'Social Professionals nec', 'Social Worker', 'Software and Applications Programmers nec', 'Software Engineer', 'Software Tester', 'Solicitor', 'Solid Plasterer', 'Sonographer', 'Sound Technician', 'Special Education Teachers nec', 'Special Needs Teacher', 'Specialist Managers nec', 'Specialist Physician (General Medicine)', 'Specialist Physicians nec', 'Speech Pathologist', 'Sports Administrator', 'Sports Centre Manager', 'Sports Development Officer', 'Sports Umpire', 'Sportspersons nec', 'Stage Manager', 'Statistician', 'Stock and Station Agent', 'Stockbroking Dealer', 'Stonemason', 'Structural Engineer', 'Student Counsellor', 'Sugar Cane Grower', 'Supply and Distribution Manager', 'Surgeon (General)', 'Surveying or Spatial Science Technician', 'Surveyor', 'Swimming Coach or Instructor', 'Systems Administrator', 'Systems Analyst', 'Taxation Accountant', 'Teacher of English to Speakers of Other Languages', 'Teacher of the Hearing Impaired', 'Teacher of the Sight Impaired', 'Technical Cable Jointer', 'Technical Director', 'Technical Sales Representatives nec', 'Technical Writer', 'Technicians and Trades Workers nec', 'Telecommunications Cable Jointer', 'Telecommunications Engineer', 'Telecommunications Field Engineer', 'Telecommunications Linesworker', 'Telecommunications Network Engineer', 'Telecommunications Network Planner', 'Telecommunications Technical Officer or Technologist', 'Telecommunications Technician', 'Television Equipment Operator', 'Television Journalist', 'Television Presenter', 'Tennis Coach', 'Textile, Clothing and Footwear Mechanic', 'Thoracic Medicine Specialist', 'Toolmaker', 'Traditional Chinese Medicine Practitioner', 'Traditional Maori Health Practitioner', 'Training and Development Professional', 'Translator', 'Transport Company Manager', 'Transport Engineer', 'Travel Agency Manager', 'Travel Attendants nec', 'Tribunal Member', 'Trust Officer', 'Turf Grower', 'University Lecturer', 'University Tutor', 'Upholsterer', 'Urban and Regional Planner', 'Urologist', 'Valuer', 'Vascular Surgeon', 'Vegetable Grower', 'Vehicle Body Builder', 'Vehicle Painter', 'Vehicle Trimmer', 'Veterinarian', 'Veterinary Nurse', 'Video Producer', 'Visual Arts and Crafts Professionals nec', 'Vocational Education Teacher', 'Wall and Floor Tiler', 'Watch and Clock Maker and Repairer', 'Web Administrator', 'Web Designer', 'Web Developer', 'Welder (First Class)', 'Welfare Centre Manager', 'Welfare Worker', 'Wholesaler', 'Wine Maker', 'Wood Machinist', 'Wood Machinists and Other Wood Trades Workers nec', 'Wood Turner', 'Wool Buyer', 'Wool Classer', 'Workplace Relations Adviser', 'Youth Worker', 'Zookeeper', 'Zoologist']\n"
          ]
        }
      ],
      "source": [
        "import re\n",
        "\n",
        "# Install spaCy (if not already installed)\n",
        "!pip install spacy\n",
        "\n",
        "# Download the English language model for spaCy\n",
        "!python -m spacy download en_core_web_sm\n",
        "\n",
        "def extract_words_between_occupations(input_string):\n",
        "    # Extract the words between \"occupation&quot;:&quot;\" and \"&quot;\"\n",
        "    matches = re.findall(r'occupation&quot;:&quot;([^&]+)&quot;', input_string)\n",
        "\n",
        "    if matches:\n",
        "        extracted_words = matches\n",
        "        return extracted_words\n",
        "    else:\n",
        "        return None\n",
        "\n",
        "# Example usage with a text file\n",
        "file_path = '/list.txt'\n",
        "# Change the above path to the actual path of your text file\n",
        "\n",
        "try:\n",
        "    with open(file_path, 'r', encoding='utf-8', errors='ignore') as file:\n",
        "        text_content = file.read()\n",
        "except UnicodeDecodeError:\n",
        "    print(f\"Unable to decode file with utf-8 encoding. Try using a different encoding or handle errors differently.\")\n",
        "    # Handle the error as appropriate for your use case\n",
        "\n",
        "# Extract the words between \"occupation&quot;:&quot;\" and \"&quot;\"\n",
        "extracted_words = extract_words_between_occupations(text_content)\n",
        "\n",
        "# Display the extracted words\n",
        "if extracted_words:\n",
        "    print(f\"Words between 'occupation&quot;:&quot;' and '&quot;': {extracted_words}\")\n",
        "else:\n",
        "    print(\"No matches found.\")\n"
      ]
    },
    {
      "cell_type": "code",
      "source": [],
      "metadata": {
        "id": "8l9okh77T54S"
      },
      "execution_count": null,
      "outputs": []
    }
  ]
}